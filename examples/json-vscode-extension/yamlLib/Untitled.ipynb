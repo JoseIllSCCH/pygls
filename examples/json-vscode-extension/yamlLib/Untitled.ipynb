{
 "cells": [
  {
   "cell_type": "code",
   "execution_count": 30,
   "id": "eb4e903f",
   "metadata": {},
   "outputs": [],
   "source": [
    "import yaml\n",
    "import sys\n",
    "#sys.path.append(\"..\") \n",
    "#print(sys.path)"
   ]
  },
  {
   "cell_type": "code",
   "execution_count": 31,
   "id": "010bf1ee",
   "metadata": {},
   "outputs": [],
   "source": [
    "class Transformer:\n",
    "    resourceAttributes = ['name','subtitle']\n",
    "    \n",
    "    def __init__(self):\n",
    "        self.concepts = {}\n",
    "        self.instances={}\n",
    "        self.relations={}\n",
    "\n",
    "        \n",
    "        \n",
    "    def start(self,filePath):\n",
    "        with open(filePath, \"r\") as stream:\n",
    "            try:\n",
    "                self.yamlObj = yaml.safe_load(stream)\n",
    "                print(yamlObj)\n",
    "            except yaml.YAMLError as exc:\n",
    "                print(exc)\n",
    "            \n",
    "        resource = self.yamlObj['resources']\n",
    "        print(len(resource))\n",
    "\n",
    "        for r in resource:\n",
    "            self.processNativeResource(r)\n",
    "\n",
    "        print(resource)\n",
    "\n",
    "        perspectives = self.yamlObj['perspectives']\n",
    "\n",
    "        print(len(perspectives))\n",
    "        for perspective in perspectives:\n",
    "            self.processNativePerspective(perspective)\n",
    "        \n",
    "    def processNativeResource(self,resource):\n",
    "        print(resource)\n",
    "    \n",
    "    def processNativePerspective(self,perspective):\n",
    "        print(perspective)\n",
    "        for k in perspective:\n",
    "            print(k,perspective[k])\n",
    "\n",
    "    def mapAsConcept(self,obj):\n",
    "        print(obj)\n",
    "    \n",
    "    def mapAsInstance(self,obj):\n",
    "        print(obj)\n",
    "        \n",
    "    def mapAsRelation(self,obj):\n",
    "        print(obj)"
   ]
  },
  {
   "cell_type": "code",
   "execution_count": 32,
   "id": "90ac95aa",
   "metadata": {},
   "outputs": [
    {
     "name": "stdout",
     "output_type": "stream",
     "text": [
      "{'resources': [{'name': 'Users', 'subtitle': 'Users of the system', 'color': 'Gray', 'style': 'plural', 'icon': 'Networking/user.svg'}, {'name': 'My Environment', 'subtitle': 'Environment', 'color': 'navy', 'children': [{'name': 'Service A', 'subtitle': 'Service', 'icon': 'Networking/cloud-server.svg'}, {'name': 'Service B', 'subtitle': 'Service', 'color': 'Firebrick', 'icon': 'Networking/cloud-server.svg'}, {'name': 'MyService Jose', 'subtitle': 'Service', 'color': 'Green', 'icon': 'Networking/cloud-server.svg'}, {'name': 'Data Store X', 'subtitle': 'Database', 'color': 'Purple', 'description': 'This is a description', 'icon': 'Networking/database.svg'}]}], 'perspectives': [{'name': 'Dependency', 'relations': [{'from': 'Users', 'to': 'Service A, Service B, MyService Jose', 'label': 'Use'}, {'from': 'Service A', 'to': 'Data Store X', 'label': 'Read'}, {'from': 'Service B', 'to': 'Data Store X', 'label': 'Read/Write', 'description': 'Labels can be given extended descriptions, like this'}], 'notes': 'Welcome to your Ilograph diagram.\\n\\nYour diagram comes pre-populated with resources and a sample perspective.\\n\\n**Need Help**? Read [Creating your first Ilograph diagram in 5 minutes](https://www.ilograph.com/docs/editing/tutorial/#making-some-simple-changes). Additional resources are available on the [Ilograph Docs](https://www.ilograph.com/docs/editing/).\\n\\n**Example Diagrams**\\n[AWS Diagram (Relation)](https://app.ilograph.com/demo.ilograph.Ilograph/Request)\\n[AWS Diagram (Sequence)](https://app.ilograph.com/demo.ilograph.Ilograph/Get%2520diagram)\\n[Datacenter Diagram](https://app.ilograph.com/demo.ilograph.Stack%2520Overflow%2520Architecture%2520\\\\(2016\\\\)/Traffic)'}]}\n",
      "2\n",
      "{'name': 'Users', 'subtitle': 'Users of the system', 'color': 'Gray', 'style': 'plural', 'icon': 'Networking/user.svg'}\n",
      "{'name': 'My Environment', 'subtitle': 'Environment', 'color': 'navy', 'children': [{'name': 'Service A', 'subtitle': 'Service', 'icon': 'Networking/cloud-server.svg'}, {'name': 'Service B', 'subtitle': 'Service', 'color': 'Firebrick', 'icon': 'Networking/cloud-server.svg'}, {'name': 'MyService Jose', 'subtitle': 'Service', 'color': 'Green', 'icon': 'Networking/cloud-server.svg'}, {'name': 'Data Store X', 'subtitle': 'Database', 'color': 'Purple', 'description': 'This is a description', 'icon': 'Networking/database.svg'}]}\n",
      "[{'name': 'Users', 'subtitle': 'Users of the system', 'color': 'Gray', 'style': 'plural', 'icon': 'Networking/user.svg'}, {'name': 'My Environment', 'subtitle': 'Environment', 'color': 'navy', 'children': [{'name': 'Service A', 'subtitle': 'Service', 'icon': 'Networking/cloud-server.svg'}, {'name': 'Service B', 'subtitle': 'Service', 'color': 'Firebrick', 'icon': 'Networking/cloud-server.svg'}, {'name': 'MyService Jose', 'subtitle': 'Service', 'color': 'Green', 'icon': 'Networking/cloud-server.svg'}, {'name': 'Data Store X', 'subtitle': 'Database', 'color': 'Purple', 'description': 'This is a description', 'icon': 'Networking/database.svg'}]}]\n",
      "1\n",
      "{'name': 'Dependency', 'relations': [{'from': 'Users', 'to': 'Service A, Service B, MyService Jose', 'label': 'Use'}, {'from': 'Service A', 'to': 'Data Store X', 'label': 'Read'}, {'from': 'Service B', 'to': 'Data Store X', 'label': 'Read/Write', 'description': 'Labels can be given extended descriptions, like this'}], 'notes': 'Welcome to your Ilograph diagram.\\n\\nYour diagram comes pre-populated with resources and a sample perspective.\\n\\n**Need Help**? Read [Creating your first Ilograph diagram in 5 minutes](https://www.ilograph.com/docs/editing/tutorial/#making-some-simple-changes). Additional resources are available on the [Ilograph Docs](https://www.ilograph.com/docs/editing/).\\n\\n**Example Diagrams**\\n[AWS Diagram (Relation)](https://app.ilograph.com/demo.ilograph.Ilograph/Request)\\n[AWS Diagram (Sequence)](https://app.ilograph.com/demo.ilograph.Ilograph/Get%2520diagram)\\n[Datacenter Diagram](https://app.ilograph.com/demo.ilograph.Stack%2520Overflow%2520Architecture%2520\\\\(2016\\\\)/Traffic)'}\n",
      "name Dependency\n",
      "relations [{'from': 'Users', 'to': 'Service A, Service B, MyService Jose', 'label': 'Use'}, {'from': 'Service A', 'to': 'Data Store X', 'label': 'Read'}, {'from': 'Service B', 'to': 'Data Store X', 'label': 'Read/Write', 'description': 'Labels can be given extended descriptions, like this'}]\n",
      "notes Welcome to your Ilograph diagram.\n",
      "\n",
      "Your diagram comes pre-populated with resources and a sample perspective.\n",
      "\n",
      "**Need Help**? Read [Creating your first Ilograph diagram in 5 minutes](https://www.ilograph.com/docs/editing/tutorial/#making-some-simple-changes). Additional resources are available on the [Ilograph Docs](https://www.ilograph.com/docs/editing/).\n",
      "\n",
      "**Example Diagrams**\n",
      "[AWS Diagram (Relation)](https://app.ilograph.com/demo.ilograph.Ilograph/Request)\n",
      "[AWS Diagram (Sequence)](https://app.ilograph.com/demo.ilograph.Ilograph/Get%2520diagram)\n",
      "[Datacenter Diagram](https://app.ilograph.com/demo.ilograph.Stack%2520Overflow%2520Architecture%2520\\(2016\\)/Traffic)\n"
     ]
    }
   ],
   "source": [
    "transformer = Transformer()\n",
    "transformer.start(\"..\\yaml\\ILOSolutionTest.yaml\")"
   ]
  },
  {
   "cell_type": "code",
   "execution_count": null,
   "id": "5413e80a",
   "metadata": {},
   "outputs": [],
   "source": [
    "with open(\"..\\yaml\\ILOSolutionTest.yaml\", \"r\") as stream:\n",
    "    try:\n",
    "        yamlObj = yaml.safe_load(stream)\n",
    "        print(yamlObj)\n",
    "    except yaml.YAMLError as exc:\n",
    "        print(exc)\n",
    "\n",
    "\n",
    "resource = yamlObj['resources']\n",
    "print(len(resource))\n",
    "\n",
    "resourceAttributes = ['name','subtitle']\n",
    "for r in resource:\n",
    "    processResource(r)\n",
    "\n",
    "print(resource)\n",
    "\n",
    "perspectives = yamlObj['perspectives']\n",
    "\n",
    "print(len(perspectives))\n",
    "for l in perspectives:\n",
    "        for k in l:\n",
    "            print(k,l[k])\n",
    "            "
   ]
  }
 ],
 "metadata": {
  "kernelspec": {
   "display_name": "Python 3 (ipykernel)",
   "language": "python",
   "name": "python3"
  },
  "language_info": {
   "codemirror_mode": {
    "name": "ipython",
    "version": 3
   },
   "file_extension": ".py",
   "mimetype": "text/x-python",
   "name": "python",
   "nbconvert_exporter": "python",
   "pygments_lexer": "ipython3",
   "version": "3.11.0"
  }
 },
 "nbformat": 4,
 "nbformat_minor": 5
}
