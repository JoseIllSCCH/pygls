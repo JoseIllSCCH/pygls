{
 "cells": [
  {
   "cell_type": "code",
   "execution_count": 1,
   "id": "180f0a1f",
   "metadata": {},
   "outputs": [],
   "source": [
    "import yaml\n",
    "import sys\n",
    "import YAML_ILOGraph as iloTrans\n",
    "import owlready2 as owlapi\n",
    "import rdflib\n",
    "#sys.path.append(\"..\")\n",
    "# print(sys.path)"
   ]
  },
  {
   "cell_type": "code",
   "execution_count": 2,
   "id": "d1881af3",
   "metadata": {},
   "outputs": [
    {
     "name": "stdout",
     "output_type": "stream",
     "text": [
      "3\n",
      "12\n",
      "18\n"
     ]
    }
   ],
   "source": [
    "yamlTest = iloTrans.YAMLFactory(\"..\\yamlLib\\AKGraph_Test.yaml\")\n",
    "yamlTest.processFile()\n",
    "print(len(yamlTest.relations))\n",
    "print(len(yamlTest.metaRelations))"
   ]
  },
  {
   "cell_type": "code",
   "execution_count": 4,
   "id": "4ba51110",
   "metadata": {},
   "outputs": [
    {
     "name": "stderr",
     "output_type": "stream",
     "text": [
      "<YAML_ILOGraph.YAMLFactory object at 0x0000018B091F4E10> does not look like a valid URI, trying to serialize this will break.\n"
     ]
    },
    {
     "ename": "TypeError",
     "evalue": "ILOGraphtoOntoFactory.transformToOnto() missing 1 required positional argument: 'baseFactory'",
     "output_type": "error",
     "traceback": [
      "\u001b[1;31m---------------------------------------------------------------------------\u001b[0m",
      "\u001b[1;31mTypeError\u001b[0m                                 Traceback (most recent call last)",
      "Cell \u001b[1;32mIn[4], line 2\u001b[0m\n\u001b[0;32m      1\u001b[0m ontoFactory \u001b[39m=\u001b[39m iloTrans\u001b[39m.\u001b[39mILOGraphtoOntoFactory(yamlTest)\n\u001b[1;32m----> 2\u001b[0m ontoFactory\u001b[39m.\u001b[39;49mtransformToOnto()\n",
      "\u001b[1;31mTypeError\u001b[0m: ILOGraphtoOntoFactory.transformToOnto() missing 1 required positional argument: 'baseFactory'"
     ]
    }
   ],
   "source": [
    "ontoFactory = iloTrans.ILOGraphtoOntoFactory(yamlTest)\n",
    "ontoFactory.transformToOnto()\n"
   ]
  },
  {
   "cell_type": "code",
   "execution_count": 4,
   "id": "d21e43b6",
   "metadata": {},
   "outputs": [
    {
     "name": "stdout",
     "output_type": "stream",
     "text": [
      "(rdflib.term.URIRef('https://w3id.org/tsso#Component_1'), rdflib.term.URIRef('https://w3id.org/tsso#hasCapability'), rdflib.term.URIRef('https://w3id.org/tsso#Capability_1'))\n",
      "(rdflib.term.URIRef('https://w3id.org/tsso#Component_1'), rdflib.term.URIRef('https://w3id.org/tsso#hasCapability'), rdflib.term.URIRef('https://w3id.org/tsso#Capability_2'))\n",
      "(rdflib.term.URIRef('https://w3id.org/tsso#Component_1'), rdflib.term.URIRef('http://www.w3.org/1999/02/22-rdf-syntax-ns#type'), rdflib.term.URIRef('https://w3id.org/tsso#Component'))\n",
      "(rdflib.term.URIRef('https://w3id.org/tsso#Component_1'), rdflib.term.URIRef('https://w3id.org/tsso#partOfComponentSolution'), rdflib.term.URIRef('https://w3id.org/tsso#ComponentSolution_0'))\n"
     ]
    }
   ],
   "source": [
    "ontoFactory.testForSubject(iloTrans.URIRef(\"https://w3id.org/tsso#Component_1\"))"
   ]
  },
  {
   "cell_type": "code",
   "execution_count": 7,
   "id": "edbf0416",
   "metadata": {},
   "outputs": [
    {
     "data": {
      "text/plain": [
       "['a', 'v', 'b', 'd']"
      ]
     },
     "execution_count": 7,
     "metadata": {},
     "output_type": "execute_result"
    }
   ],
   "source": [
    "[x.strip() for x in \" a,v,b ,d\".split(',')]"
   ]
  },
  {
   "cell_type": "code",
   "execution_count": 8,
   "id": "1d994ea5",
   "metadata": {},
   "outputs": [
    {
     "name": "stdout",
     "output_type": "stream",
     "text": [
      "get_ontology(\"https://w3id.org/tsso#\")\n"
     ]
    }
   ],
   "source": [
    "onto = owlapi.get_ontology(\"C:\\\\Users\\\\illescas\\\\Desktop\\\\Jose\\\\Git\\\\TechnicalStandardsOntology\\\\Documentation\\\\resources\\\\ontology.nt\").load()\n",
    "print(onto)\n"
   ]
  },
  {
   "cell_type": "code",
   "execution_count": 9,
   "id": "68abdd70",
   "metadata": {},
   "outputs": [
    {
     "name": "stdout",
     "output_type": "stream",
     "text": [
      "<bound method _GraphManager.object_properties of get_ontology(\"https://w3id.org/tsso#\")>\n",
      "C:\\Users\\illescas\\Desktop\\Jose\\Git\\TechnicalStandardsOntology\\Documentation\\resources\\ontology.nt.achieves\n",
      "C:\\Users\\illescas\\Desktop\\Jose\\Git\\TechnicalStandardsOntology\\Documentation\\resources\\ontology.nt.promotedBy\n",
      "C:\\Users\\illescas\\Desktop\\Jose\\Git\\TechnicalStandardsOntology\\Documentation\\resources\\ontology.nt.addressedBy\n",
      "C:\\Users\\illescas\\Desktop\\Jose\\Git\\TechnicalStandardsOntology\\Documentation\\resources\\ontology.nt.addresses\n",
      "C:\\Users\\illescas\\Desktop\\Jose\\Git\\TechnicalStandardsOntology\\Documentation\\resources\\ontology.nt.addressesConcern\n",
      "C:\\Users\\illescas\\Desktop\\Jose\\Git\\TechnicalStandardsOntology\\Documentation\\resources\\ontology.nt.affects\n",
      "C:\\Users\\illescas\\Desktop\\Jose\\Git\\TechnicalStandardsOntology\\Documentation\\resources\\ontology.nt.isAffectedBy\n",
      "C:\\Users\\illescas\\Desktop\\Jose\\Git\\TechnicalStandardsOntology\\Documentation\\resources\\ontology.nt.applicableTo\n",
      "C:\\Users\\illescas\\Desktop\\Jose\\Git\\TechnicalStandardsOntology\\Documentation\\resources\\ontology.nt.applies\n",
      "C:\\Users\\illescas\\Desktop\\Jose\\Git\\TechnicalStandardsOntology\\Documentation\\resources\\ontology.nt.associatedToSubCategory\n",
      "C:\\Users\\illescas\\Desktop\\Jose\\Git\\TechnicalStandardsOntology\\Documentation\\resources\\ontology.nt.considersProvision\n",
      "C:\\Users\\illescas\\Desktop\\Jose\\Git\\TechnicalStandardsOntology\\Documentation\\resources\\ontology.nt.belongsTo\n",
      "C:\\Users\\illescas\\Desktop\\Jose\\Git\\TechnicalStandardsOntology\\Documentation\\resources\\ontology.nt.ownerOf\n",
      "C:\\Users\\illescas\\Desktop\\Jose\\Git\\TechnicalStandardsOntology\\Documentation\\resources\\ontology.nt.channelUsedBy\n",
      "C:\\Users\\illescas\\Desktop\\Jose\\Git\\TechnicalStandardsOntology\\Documentation\\resources\\ontology.nt.usesChannel\n",
      "C:\\Users\\illescas\\Desktop\\Jose\\Git\\TechnicalStandardsOntology\\Documentation\\resources\\ontology.nt.composedOf\n",
      "C:\\Users\\illescas\\Desktop\\Jose\\Git\\TechnicalStandardsOntology\\Documentation\\resources\\ontology.nt.composes\n",
      "C:\\Users\\illescas\\Desktop\\Jose\\Git\\TechnicalStandardsOntology\\Documentation\\resources\\ontology.nt.configurationOf\n",
      "C:\\Users\\illescas\\Desktop\\Jose\\Git\\TechnicalStandardsOntology\\Documentation\\resources\\ontology.nt.hasConfiguration\n",
      "C:\\Users\\illescas\\Desktop\\Jose\\Git\\TechnicalStandardsOntology\\Documentation\\resources\\ontology.nt.connects\n",
      "C:\\Users\\illescas\\Desktop\\Jose\\Git\\TechnicalStandardsOntology\\Documentation\\resources\\ontology.nt.connectsDestination\n",
      "C:\\Users\\illescas\\Desktop\\Jose\\Git\\TechnicalStandardsOntology\\Documentation\\resources\\ontology.nt.isDestinationOf\n",
      "C:\\Users\\illescas\\Desktop\\Jose\\Git\\TechnicalStandardsOntology\\Documentation\\resources\\ontology.nt.connectsSource\n",
      "C:\\Users\\illescas\\Desktop\\Jose\\Git\\TechnicalStandardsOntology\\Documentation\\resources\\ontology.nt.isSourceOf\n",
      "C:\\Users\\illescas\\Desktop\\Jose\\Git\\TechnicalStandardsOntology\\Documentation\\resources\\ontology.nt.considersAsset\n",
      "C:\\Users\\illescas\\Desktop\\Jose\\Git\\TechnicalStandardsOntology\\Documentation\\resources\\ontology.nt.considersRisk\n",
      "C:\\Users\\illescas\\Desktop\\Jose\\Git\\TechnicalStandardsOntology\\Documentation\\resources\\ontology.nt.considersThreat\n",
      "C:\\Users\\illescas\\Desktop\\Jose\\Git\\TechnicalStandardsOntology\\Documentation\\resources\\ontology.nt.considersVulnerability\n",
      "C:\\Users\\illescas\\Desktop\\Jose\\Git\\TechnicalStandardsOntology\\Documentation\\resources\\ontology.nt.consistOfFrameworkElement\n",
      "C:\\Users\\illescas\\Desktop\\Jose\\Git\\TechnicalStandardsOntology\\Documentation\\resources\\ontology.nt.containedBy\n",
      "C:\\Users\\illescas\\Desktop\\Jose\\Git\\TechnicalStandardsOntology\\Documentation\\resources\\ontology.nt.contains\n",
      "C:\\Users\\illescas\\Desktop\\Jose\\Git\\TechnicalStandardsOntology\\Documentation\\resources\\ontology.nt.demandsCapability\n",
      "C:\\Users\\illescas\\Desktop\\Jose\\Git\\TechnicalStandardsOntology\\Documentation\\resources\\ontology.nt.dependsOn\n",
      "C:\\Users\\illescas\\Desktop\\Jose\\Git\\TechnicalStandardsOntology\\Documentation\\resources\\ontology.nt.describesSolution\n",
      "C:\\Users\\illescas\\Desktop\\Jose\\Git\\TechnicalStandardsOntology\\Documentation\\resources\\ontology.nt.solutionOfArchitecture\n",
      "C:\\Users\\illescas\\Desktop\\Jose\\Git\\TechnicalStandardsOntology\\Documentation\\resources\\ontology.nt.developedBy\n",
      "C:\\Users\\illescas\\Desktop\\Jose\\Git\\TechnicalStandardsOntology\\Documentation\\resources\\ontology.nt.develops\n",
      "C:\\Users\\illescas\\Desktop\\Jose\\Git\\TechnicalStandardsOntology\\Documentation\\resources\\ontology.nt.enhancementOf\n",
      "C:\\Users\\illescas\\Desktop\\Jose\\Git\\TechnicalStandardsOntology\\Documentation\\resources\\ontology.nt.hasEnhancement\n",
      "C:\\Users\\illescas\\Desktop\\Jose\\Git\\TechnicalStandardsOntology\\Documentation\\resources\\ontology.nt.exposedBy\n",
      "C:\\Users\\illescas\\Desktop\\Jose\\Git\\TechnicalStandardsOntology\\Documentation\\resources\\ontology.nt.exposes\n",
      "C:\\Users\\illescas\\Desktop\\Jose\\Git\\TechnicalStandardsOntology\\Documentation\\resources\\ontology.nt.handledBy\n",
      "C:\\Users\\illescas\\Desktop\\Jose\\Git\\TechnicalStandardsOntology\\Documentation\\resources\\ontology.nt.handles\n",
      "C:\\Users\\illescas\\Desktop\\Jose\\Git\\TechnicalStandardsOntology\\Documentation\\resources\\ontology.nt.hasArchitecture\n",
      "C:\\Users\\illescas\\Desktop\\Jose\\Git\\TechnicalStandardsOntology\\Documentation\\resources\\ontology.nt.hasCapability\n",
      "C:\\Users\\illescas\\Desktop\\Jose\\Git\\TechnicalStandardsOntology\\Documentation\\resources\\ontology.nt.hasCategory\n",
      "C:\\Users\\illescas\\Desktop\\Jose\\Git\\TechnicalStandardsOntology\\Documentation\\resources\\ontology.nt.hasConstraint\n",
      "C:\\Users\\illescas\\Desktop\\Jose\\Git\\TechnicalStandardsOntology\\Documentation\\resources\\ontology.nt.hasDelegatedCapability\n",
      "C:\\Users\\illescas\\Desktop\\Jose\\Git\\TechnicalStandardsOntology\\Documentation\\resources\\ontology.nt.isDelegatedCapabilityOf\n",
      "C:\\Users\\illescas\\Desktop\\Jose\\Git\\TechnicalStandardsOntology\\Documentation\\resources\\ontology.nt.hasDevicePhysicalLimitation\n",
      "C:\\Users\\illescas\\Desktop\\Jose\\Git\\TechnicalStandardsOntology\\Documentation\\resources\\ontology.nt.isDevicePhysicalLimitationOf\n",
      "C:\\Users\\illescas\\Desktop\\Jose\\Git\\TechnicalStandardsOntology\\Documentation\\resources\\ontology.nt.hasDomain\n",
      "C:\\Users\\illescas\\Desktop\\Jose\\Git\\TechnicalStandardsOntology\\Documentation\\resources\\ontology.nt.isDomainOf\n",
      "C:\\Users\\illescas\\Desktop\\Jose\\Git\\TechnicalStandardsOntology\\Documentation\\resources\\ontology.nt.hasFW\n",
      "C:\\Users\\illescas\\Desktop\\Jose\\Git\\TechnicalStandardsOntology\\Documentation\\resources\\ontology.nt.hasFunction\n",
      "C:\\Users\\illescas\\Desktop\\Jose\\Git\\TechnicalStandardsOntology\\Documentation\\resources\\ontology.nt.hasHMI\n",
      "C:\\Users\\illescas\\Desktop\\Jose\\Git\\TechnicalStandardsOntology\\Documentation\\resources\\ontology.nt.hasInterface\n",
      "C:\\Users\\illescas\\Desktop\\Jose\\Git\\TechnicalStandardsOntology\\Documentation\\resources\\ontology.nt.hasLighterVersion\n",
      "C:\\Users\\illescas\\Desktop\\Jose\\Git\\TechnicalStandardsOntology\\Documentation\\resources\\ontology.nt.hasMoreSecureVersion\n",
      "C:\\Users\\illescas\\Desktop\\Jose\\Git\\TechnicalStandardsOntology\\Documentation\\resources\\ontology.nt.hasMainCategory\n",
      "C:\\Users\\illescas\\Desktop\\Jose\\Git\\TechnicalStandardsOntology\\Documentation\\resources\\ontology.nt.hasSubCategory\n",
      "C:\\Users\\illescas\\Desktop\\Jose\\Git\\TechnicalStandardsOntology\\Documentation\\resources\\ontology.nt.hasMoreGeneralDomain\n",
      "C:\\Users\\illescas\\Desktop\\Jose\\Git\\TechnicalStandardsOntology\\Documentation\\resources\\ontology.nt.hasMoreGeneralVersion\n",
      "C:\\Users\\illescas\\Desktop\\Jose\\Git\\TechnicalStandardsOntology\\Documentation\\resources\\ontology.nt.hasSubDomain\n",
      "C:\\Users\\illescas\\Desktop\\Jose\\Git\\TechnicalStandardsOntology\\Documentation\\resources\\ontology.nt.hasMoreGeneralProblem\n",
      "C:\\Users\\illescas\\Desktop\\Jose\\Git\\TechnicalStandardsOntology\\Documentation\\resources\\ontology.nt.hasSubProblem\n",
      "C:\\Users\\illescas\\Desktop\\Jose\\Git\\TechnicalStandardsOntology\\Documentation\\resources\\ontology.nt.hasSubVersion\n",
      "C:\\Users\\illescas\\Desktop\\Jose\\Git\\TechnicalStandardsOntology\\Documentation\\resources\\ontology.nt.hasOS\n",
      "C:\\Users\\illescas\\Desktop\\Jose\\Git\\TechnicalStandardsOntology\\Documentation\\resources\\ontology.nt.hasPolicy\n",
      "C:\\Users\\illescas\\Desktop\\Jose\\Git\\TechnicalStandardsOntology\\Documentation\\resources\\ontology.nt.hasPredecessor\n",
      "C:\\Users\\illescas\\Desktop\\Jose\\Git\\TechnicalStandardsOntology\\Documentation\\resources\\ontology.nt.hasSuccessor\n",
      "C:\\Users\\illescas\\Desktop\\Jose\\Git\\TechnicalStandardsOntology\\Documentation\\resources\\ontology.nt.hasProfile\n",
      "C:\\Users\\illescas\\Desktop\\Jose\\Git\\TechnicalStandardsOntology\\Documentation\\resources\\ontology.nt.hasProperty\n",
      "C:\\Users\\illescas\\Desktop\\Jose\\Git\\TechnicalStandardsOntology\\Documentation\\resources\\ontology.nt.hasRequirement\n",
      "C:\\Users\\illescas\\Desktop\\Jose\\Git\\TechnicalStandardsOntology\\Documentation\\resources\\ontology.nt.hasScope\n",
      "C:\\Users\\illescas\\Desktop\\Jose\\Git\\TechnicalStandardsOntology\\Documentation\\resources\\ontology.nt.hasSolutionStructure\n",
      "C:\\Users\\illescas\\Desktop\\Jose\\Git\\TechnicalStandardsOntology\\Documentation\\resources\\ontology.nt.hasStatus\n",
      "C:\\Users\\illescas\\Desktop\\Jose\\Git\\TechnicalStandardsOntology\\Documentation\\resources\\ontology.nt.hasSupplementalGuidance\n",
      "C:\\Users\\illescas\\Desktop\\Jose\\Git\\TechnicalStandardsOntology\\Documentation\\resources\\ontology.nt.isSupplementalGuidanceOf\n",
      "C:\\Users\\illescas\\Desktop\\Jose\\Git\\TechnicalStandardsOntology\\Documentation\\resources\\ontology.nt.hasTier\n",
      "C:\\Users\\illescas\\Desktop\\Jose\\Git\\TechnicalStandardsOntology\\Documentation\\resources\\ontology.nt.hasTolerance\n",
      "C:\\Users\\illescas\\Desktop\\Jose\\Git\\TechnicalStandardsOntology\\Documentation\\resources\\ontology.nt.hasType\n",
      "C:\\Users\\illescas\\Desktop\\Jose\\Git\\TechnicalStandardsOntology\\Documentation\\resources\\ontology.nt.improvesQA\n",
      "C:\\Users\\illescas\\Desktop\\Jose\\Git\\TechnicalStandardsOntology\\Documentation\\resources\\ontology.nt.interestedIn\n",
      "C:\\Users\\illescas\\Desktop\\Jose\\Git\\TechnicalStandardsOntology\\Documentation\\resources\\ontology.nt.isAssetOf\n",
      "C:\\Users\\illescas\\Desktop\\Jose\\Git\\TechnicalStandardsOntology\\Documentation\\resources\\ontology.nt.ownsAsset\n",
      "C:\\Users\\illescas\\Desktop\\Jose\\Git\\TechnicalStandardsOntology\\Documentation\\resources\\ontology.nt.manufactures\n",
      "C:\\Users\\illescas\\Desktop\\Jose\\Git\\TechnicalStandardsOntology\\Documentation\\resources\\ontology.nt.partOfComponentSolution\n",
      "C:\\Users\\illescas\\Desktop\\Jose\\Git\\TechnicalStandardsOntology\\Documentation\\resources\\ontology.nt.partOfSolution\n",
      "C:\\Users\\illescas\\Desktop\\Jose\\Git\\TechnicalStandardsOntology\\Documentation\\resources\\ontology.nt.partOfDeploymentSolution\n",
      "C:\\Users\\illescas\\Desktop\\Jose\\Git\\TechnicalStandardsOntology\\Documentation\\resources\\ontology.nt.solutionOf\n",
      "C:\\Users\\illescas\\Desktop\\Jose\\Git\\TechnicalStandardsOntology\\Documentation\\resources\\ontology.nt.protocolSupportedBy\n",
      "C:\\Users\\illescas\\Desktop\\Jose\\Git\\TechnicalStandardsOntology\\Documentation\\resources\\ontology.nt.supportsProtocol\n",
      "C:\\Users\\illescas\\Desktop\\Jose\\Git\\TechnicalStandardsOntology\\Documentation\\resources\\ontology.nt.protocolUsedBy\n",
      "C:\\Users\\illescas\\Desktop\\Jose\\Git\\TechnicalStandardsOntology\\Documentation\\resources\\ontology.nt.usesProtocol\n",
      "C:\\Users\\illescas\\Desktop\\Jose\\Git\\TechnicalStandardsOntology\\Documentation\\resources\\ontology.nt.providesFunction\n",
      "C:\\Users\\illescas\\Desktop\\Jose\\Git\\TechnicalStandardsOntology\\Documentation\\resources\\ontology.nt.providesFunctionality\n",
      "C:\\Users\\illescas\\Desktop\\Jose\\Git\\TechnicalStandardsOntology\\Documentation\\resources\\ontology.nt.providesService\n",
      "C:\\Users\\illescas\\Desktop\\Jose\\Git\\TechnicalStandardsOntology\\Documentation\\resources\\ontology.nt.serviceProvidedBy\n",
      "C:\\Users\\illescas\\Desktop\\Jose\\Git\\TechnicalStandardsOntology\\Documentation\\resources\\ontology.nt.published\n",
      "C:\\Users\\illescas\\Desktop\\Jose\\Git\\TechnicalStandardsOntology\\Documentation\\resources\\ontology.nt.publishedBy\n",
      "C:\\Users\\illescas\\Desktop\\Jose\\Git\\TechnicalStandardsOntology\\Documentation\\resources\\ontology.nt.referencesArchitecture\n",
      "C:\\Users\\illescas\\Desktop\\Jose\\Git\\TechnicalStandardsOntology\\Documentation\\resources\\ontology.nt.refersTo\n",
      "C:\\Users\\illescas\\Desktop\\Jose\\Git\\TechnicalStandardsOntology\\Documentation\\resources\\ontology.nt.relatedTo\n",
      "C:\\Users\\illescas\\Desktop\\Jose\\Git\\TechnicalStandardsOntology\\Documentation\\resources\\ontology.nt.relatedToProblem\n",
      "C:\\Users\\illescas\\Desktop\\Jose\\Git\\TechnicalStandardsOntology\\Documentation\\resources\\ontology.nt.requiresFunctionality\n",
      "C:\\Users\\illescas\\Desktop\\Jose\\Git\\TechnicalStandardsOntology\\Documentation\\resources\\ontology.nt.requiresService\n",
      "C:\\Users\\illescas\\Desktop\\Jose\\Git\\TechnicalStandardsOntology\\Documentation\\resources\\ontology.nt.serviceRequiredBy\n",
      "C:\\Users\\illescas\\Desktop\\Jose\\Git\\TechnicalStandardsOntology\\Documentation\\resources\\ontology.nt.runsOn\n",
      "C:\\Users\\illescas\\Desktop\\Jose\\Git\\TechnicalStandardsOntology\\Documentation\\resources\\ontology.nt.serviceUsedBy\n",
      "C:\\Users\\illescas\\Desktop\\Jose\\Git\\TechnicalStandardsOntology\\Documentation\\resources\\ontology.nt.suggestsCounterMeasure\n",
      "C:\\Users\\illescas\\Desktop\\Jose\\Git\\TechnicalStandardsOntology\\Documentation\\resources\\ontology.nt.supplies\n",
      "C:\\Users\\illescas\\Desktop\\Jose\\Git\\TechnicalStandardsOntology\\Documentation\\resources\\ontology.nt.uses\n",
      "C:\\Users\\illescas\\Desktop\\Jose\\Git\\TechnicalStandardsOntology\\Documentation\\resources\\ontology.nt.usesAlgorithm\n",
      "C:\\Users\\illescas\\Desktop\\Jose\\Git\\TechnicalStandardsOntology\\Documentation\\resources\\ontology.nt.usesEncryption\n",
      "C:\\Users\\illescas\\Desktop\\Jose\\Git\\TechnicalStandardsOntology\\Documentation\\resources\\ontology.nt.vulnerableTo\n"
     ]
    },
    {
     "ename": "AttributeError",
     "evalue": "'NoneType' object has no attribute 'iri'",
     "output_type": "error",
     "traceback": [
      "\u001b[1;31m---------------------------------------------------------------------------\u001b[0m",
      "\u001b[1;31mAttributeError\u001b[0m                            Traceback (most recent call last)",
      "Cell \u001b[1;32mIn[9], line 5\u001b[0m\n\u001b[0;32m      2\u001b[0m \u001b[38;5;28;01mfor\u001b[39;00m p \u001b[38;5;129;01min\u001b[39;00m onto\u001b[38;5;241m.\u001b[39mobject_properties():\n\u001b[0;32m      3\u001b[0m     \u001b[38;5;28mprint\u001b[39m(p)\n\u001b[1;32m----> 5\u001b[0m \u001b[38;5;28mprint\u001b[39m(\u001b[43monto\u001b[49m\u001b[38;5;241;43m.\u001b[39;49m\u001b[43mhasHMI2\u001b[49m\u001b[38;5;241;43m.\u001b[39;49m\u001b[43miri\u001b[49m)\n",
      "\u001b[1;31mAttributeError\u001b[0m: 'NoneType' object has no attribute 'iri'"
     ]
    }
   ],
   "source": [
    "print(onto.object_properties)\n",
    "for p in onto.object_properties():\n",
    "    print(p)\n",
    "\n",
    "print(onto.hasHMI2.iri)"
   ]
  },
  {
   "cell_type": "code",
   "execution_count": null,
   "id": "c6b4eed1",
   "metadata": {},
   "outputs": [],
   "source": [
    "print(onto.base_iri)\n",
    "from rdflib.namespace import DefinedNamespace, Namespace\n",
    "class TSSO(DefinedNamespace):\n",
    "    _NS = Namespace(\"https://w3id.org/tsso#\")\n",
    "\n",
    "    System: URIRef\n",
    "    Component:URIRef\n",
    "    ComponentSolution: URIRef\n",
    "    Capability: URIRef\n",
    "    TechnicalStandard: URIRef\n",
    "    Provision:URIRef\n",
    "    Requirement:URIRef"
   ]
  },
  {
   "cell_type": "code",
   "execution_count": null,
   "id": "c50b12ce",
   "metadata": {},
   "outputs": [],
   "source": [
    "print(list(onto.classes()))\n",
    "for c in onto.classes():\n",
    "    print(c.iri)"
   ]
  },
  {
   "cell_type": "code",
   "execution_count": null,
   "id": "905f2762",
   "metadata": {},
   "outputs": [],
   "source": [
    "f = open(\"TSSOMod.py\", \"w\")"
   ]
  },
  {
   "cell_type": "code",
   "execution_count": null,
   "id": "6a90f606",
   "metadata": {},
   "outputs": [],
   "source": [
    "\n",
    "uriRefText = \": URIRef\"\n",
    "comment = \"#\"\n",
    "indent = \"  \"\n",
    "seeAlsoText = \"see also ...\"\n",
    "regionSep = \" ====\"\n",
    "lines = [\"from rdflib import  URIRef \\n\", \"from rdflib.namespace import DefinedNamespace, Namespace\\n\",\n",
    "         \"class TSSO(DefinedNamespace):\\n\", indent+\"_NS = Namespace(\\\"\"+onto.base_iri+\"\\\")\\n\"]\n",
    "\n",
    "ontoIri = onto.base_iri\n",
    "with open(\"TSSOMod.py\", \"w\") as f:\n",
    "    for l in lines:\n",
    "        f.write(l)\n",
    "\n",
    "    f.writelines([indent, comment, \"START Classes\".upper(), regionSep, \"\\n\"])\n",
    "\n",
    "    for c in onto.classes():\n",
    "        f.writelines([indent, comment, c.iri, \"\\n\"])\n",
    "        f.writelines([indent, c.name, uriRefText, indent,\n",
    "                     comment, seeAlsoText, \"\\n\\n\"])\n",
    "    f.writelines([indent, comment, \"END Classes\".upper(), regionSep, \"\\n\\n\\n\"])\n",
    "\n",
    "    f.writelines(\n",
    "        [indent, comment, \"START Object Properties\".upper(), regionSep, \"\\n\"])\n",
    "\n",
    "    for op in onto.object_properties():\n",
    "        f.writelines([indent, comment, op.iri, \"\\n\"])\n",
    "        f.writelines([indent, op.name, uriRefText, indent,\n",
    "                     comment, seeAlsoText, \"\\n\\n\"])\n",
    "    f.writelines(\n",
    "        [indent, comment, \"END Object Properties\".upper(), regionSep, \"\\n\\n\\n\"])\n",
    "\n",
    "    f.writelines(\n",
    "        [indent, comment, \"START Data Properties\".upper(), regionSep, \"\\n\"])\n",
    "    for dp in onto.data_properties():\n",
    "        f.writelines([indent, comment, dp.iri, \"\\n\"])\n",
    "        f.writelines([indent, dp.name, uriRefText, indent,\n",
    "                     comment, seeAlsoText, \"\\n\\n\"])\n",
    "    f.writelines(\n",
    "        [indent, comment, \"END Data Properties\".upper(), regionSep, \"\\n\\n\\n\"])\n",
    "\n",
    "    f.writelines(\n",
    "        [indent, comment, \"START AnnotATION Properties\".upper(), regionSep, \"\\n\"])\n",
    "    for anno in [a for a in onto.annotation_properties() if a.iri.startswith(ontoIri)]:\n",
    "        f.writelines([indent, comment, anno.iri, \"\\n\"])\n",
    "        f.writelines([indent, anno.name, uriRefText, indent,\n",
    "                     comment, seeAlsoText, \"\\n\\n\"])\n",
    "    f.writelines(\n",
    "        [indent, comment, \"END AnnotATION Properties\".upper(), regionSep, \"\\n\\n\\n\"])\n",
    "    f.close()"
   ]
  },
  {
   "cell_type": "code",
   "execution_count": null,
   "id": "fd557b98",
   "metadata": {},
   "outputs": [],
   "source": [
    "onto.search(iri=\"*#has*Solution*\")"
   ]
  },
  {
   "cell_type": "code",
   "execution_count": null,
   "id": "0d953d1d",
   "metadata": {},
   "outputs": [],
   "source": [
    "import TSSOMod as tsso\n",
    "\n",
    "print(hasattr(tsso.TSSO,\"Risk\"))\n",
    "print(tsso.TSSO[\"Requirement\"])"
   ]
  },
  {
   "cell_type": "code",
   "execution_count": null,
   "id": "eae0ca84",
   "metadata": {},
   "outputs": [],
   "source": [
    "for entry in dir(tsso.TSSO):\n",
    "    print(type(entry),entry)\n"
   ]
  },
  {
   "cell_type": "code",
   "execution_count": null,
   "id": "070264a4",
   "metadata": {},
   "outputs": [],
   "source": [
    "print(onto.metadata)\n",
    "list(onto.metadata)"
   ]
  },
  {
   "cell_type": "code",
   "execution_count": null,
   "id": "cbda8dc6",
   "metadata": {},
   "outputs": [],
   "source": [
    "for annot_req in onto.metadata:\n",
    "    print(annot_req,\":\",annot_req[onto.metadata])"
   ]
  },
  {
   "cell_type": "code",
   "execution_count": null,
   "id": "1fd9480e",
   "metadata": {},
   "outputs": [],
   "source": [
    "\n",
    "# Create a Graph\n",
    "g = rdflib.Graph()\n",
    "\n",
    "# Parse in an RDF file hosted on the Internet\n",
    "g.parse(\"C:\\\\Users\\\\illescas\\\\Desktop\\\\Jose\\\\Git\\\\TechnicalStandardsOntology\\\\TechnicalStandarsOntology.ttl\")\n",
    "\n",
    "\n",
    "# Loop through each triple in the graph (subj, pred, obj)\n",
    "for subj, pred, obj in g:\n",
    "    # Check if there is at least one triple in the Graph\n",
    "    if (subj, pred, obj) not in g:\n",
    "       raise Exception(\"It better be!\")\n",
    "\n",
    "# Print the number of \"triples\" in the Graph\n",
    "print(f\"Graph g has {len(g)} statements.\")\n",
    "# Prints: Graph g has 86 statements.\n",
    "\n",
    "# Print out the entire Graph in the RDF Turtle format\n",
    "print(g.serialize(format=\"turtle\"))"
   ]
  },
  {
   "cell_type": "code",
   "execution_count": null,
   "id": "5e2e53d1",
   "metadata": {},
   "outputs": [],
   "source": [
    "from rdflib import Graph, Literal, RDF, URIRef\n",
    "# rdflib knows about quite a few popular namespaces, like W3C ontologies, schema.org etc.\n",
    "from rdflib.namespace import FOAF , XSD\n",
    "\n",
    "# Create a Graph\n",
    "g = Graph()\n",
    "\n",
    "# Create an RDF URI node to use as the subject for multiple triples\n",
    "donna = URIRef(\"http://example.org/donna\")\n",
    "\n",
    "# Add triples using store's add() method.\n",
    "g.add((donna, RDF.type, FOAF.Person))\n",
    "g.add((donna, FOAF.nick, Literal(\"donna\", lang=\"en\")))\n",
    "g.add((donna, FOAF.name, Literal(\"Donna Fales\")))\n",
    "g.add((donna, FOAF.mbox, URIRef(\"mailto:donna@example.org\")))\n",
    "\n",
    "# Add another person\n",
    "ed = URIRef(\"http://example.org/edward\")\n",
    "\n",
    "# Add triples using store's add() method.\n",
    "g.add((ed, RDF.type, FOAF.Person))\n",
    "g.add((ed, FOAF.nick, Literal(\"ed\", datatype=XSD.string)))\n",
    "g.add((ed, FOAF.name, Literal(\"Edward Scissorhands\")))\n",
    "g.add((ed, FOAF.mbox, Literal(\"e.scissorhands@example.org\", datatype=XSD.anyURI)))\n",
    "\n",
    "# Iterate over triples in store and print them out.\n",
    "print(\"--- printing raw triples ---\")\n",
    "for s, p, o in g:\n",
    "    print((s, p, o))\n",
    "\n",
    "# For each foaf:Person in the store, print out their mbox property's value.\n",
    "print(\"--- printing mboxes ---\")\n",
    "for person in g.subjects(RDF.type, FOAF.Person):\n",
    "    for mbox in g.objects(person, FOAF.mbox):\n",
    "        print(mbox)\n",
    "\n",
    "# Bind the FOAF namespace to a prefix for more readable output\n",
    "g.bind(\"foaf\", FOAF)\n",
    "\n",
    "# print all the data in the Notation3 format\n",
    "print(\"--- printing mboxes ---\")\n",
    "print(g.serialize(format='turtle',destination=\"tbt_Jose.ttl\"))"
   ]
  },
  {
   "cell_type": "code",
   "execution_count": null,
   "id": "95a2d882",
   "metadata": {},
   "outputs": [],
   "source": []
  }
 ],
 "metadata": {
  "kernelspec": {
   "display_name": "Python 3 (ipykernel)",
   "language": "python",
   "name": "python3"
  },
  "language_info": {
   "codemirror_mode": {
    "name": "ipython",
    "version": 3
   },
   "file_extension": ".py",
   "mimetype": "text/x-python",
   "name": "python",
   "nbconvert_exporter": "python",
   "pygments_lexer": "ipython3",
   "version": "3.11.0"
  }
 },
 "nbformat": 4,
 "nbformat_minor": 5
}
